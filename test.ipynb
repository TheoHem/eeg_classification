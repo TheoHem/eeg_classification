{
 "cells": [
  {
   "cell_type": "code",
   "execution_count": null,
   "metadata": {},
   "outputs": [],
   "source": [
    "import numpy as np\n",
    "import importlib\n",
    "import pandas as pd\n",
    "import tensorflow as ctf\n",
    "import matplotlib.pyplot as plt\n",
    "import seaborn as sns\n",
    "import os\n",
    "import shutil\n",
    "import mne\n",
    "import warnings\n",
    "import datetime\n",
    "from process_data import *\n",
    "\n",
    "\n",
    "\n",
    "\n",
    "from tensorflow.keras import layers, models\n",
    "from tensorflow.keras.callbacks import TensorBoard\n",
    "from keras.constraints import max_norm\n",
    "\n",
    "from sklearn.metrics import classification_report, confusion_matrix\n",
    "from sklearn.model_selection import train_test_split, GridSearchCV\n",
    "from sklearn.model_selection import KFold, StratifiedKFold\n",
    "from sklearn import preprocessing, svm\n",
    "from scipy.fft import rfft, rfftfreq\n",
    "\n",
    "np.random.seed(23)\n",
    "\n",
    "mne.set_log_level(verbose='warning') #to avoid info at terminal\n",
    "warnings.filterwarnings(action = \"ignore\", category = DeprecationWarning ) \n",
    "warnings.filterwarnings(action = \"ignore\", category = FutureWarning ) \n"
   ]
  },
  {
   "cell_type": "code",
   "execution_count": null,
   "metadata": {},
   "outputs": [],
   "source": [
    "\n",
    "# change to whatever path\n",
    "root_dir = 'inner-speech-recognition'"
   ]
  },
  {
   "cell_type": "code",
   "execution_count": null,
   "metadata": {},
   "outputs": [],
   "source": [
    "\n",
    "# subject number, 1-10\n",
    "N_s = 1\n",
    "X, Y = extract_data_from_subject(root_dir, N_s, datatype=\"eeg\")\n",
    "Tstart = 1.5\n",
    "Tend = 3.5\n",
    "fs = 256\n",
    "Subj = select_time_window(X = X, t_start = Tstart, t_end = Tend, fs = fs)\n",
    "\n"
   ]
  },
  {
   "cell_type": "code",
   "execution_count": null,
   "metadata": {},
   "outputs": [],
   "source": [
    "print(\"Shape of X before:\", X.shape)\n",
    "\n",
    "print(\"Shape of Y before:\", Y.shape)\n",
    "# Conditions to compared\n",
    "Conditions = [[\"Inner\"]]\n",
    "# The class for the above condition\n",
    "Classes    = [  [\"all\"] ]\n",
    "\n",
    "\n",
    "\n",
    "X, Y = transform_for_classificator(X = Subj, Y = Y, classes = Classes, conditions = Conditions)\n",
    "\n",
    "\n",
    "\n",
    "print(\"Shape of X after:\", X.shape)\n",
    "print(\"Shape of Y after:\", Y.shape)"
   ]
  },
  {
   "cell_type": "code",
   "execution_count": null,
   "metadata": {},
   "outputs": [],
   "source": [
    "\n",
    "#Convert to microvolts\n",
    "X_resize = X * (10**6)\n",
    "\n",
    "\n",
    "data_labels= Y[:,1]\n",
    "\n",
    "\n",
    "#For SVM, we will translate the integer labels\n",
    "trials_dict = {0:'up',\n",
    "               1:'down',\n",
    "               2:'right',\n",
    "               3:'left'}\n",
    "trial_labels = np.array([trials_dict[direction] for direction in data_labels])\n",
    "data_labels"
   ]
  },
  {
   "cell_type": "code",
   "execution_count": null,
   "metadata": {},
   "outputs": [
    {
     "ename": "NameError",
     "evalue": "name 'np' is not defined",
     "output_type": "error",
     "traceback": [
      "\u001b[1;31m---------------------------------------------------------------------------\u001b[0m",
      "\u001b[1;31mNameError\u001b[0m                                 Traceback (most recent call last)",
      "Cell \u001b[1;32mIn[1], line 1\u001b[0m\n\u001b[1;32m----> 1\u001b[0m \u001b[38;5;28;01mdef\u001b[39;00m \u001b[38;5;21mplot_eeg_signals\u001b[39m(X_resize: \u001b[43mnp\u001b[49m\u001b[38;5;241m.\u001b[39mndarray, Y: np\u001b[38;5;241m.\u001b[39mndarray, fs: \u001b[38;5;28mint\u001b[39m, top_channels: \u001b[38;5;28mint\u001b[39m \u001b[38;5;241m=\u001b[39m \u001b[38;5;241m10\u001b[39m, average_trials: \u001b[38;5;28mbool\u001b[39m \u001b[38;5;241m=\u001b[39m \u001b[38;5;28;01mTrue\u001b[39;00m):\n\u001b[0;32m      2\u001b[0m \u001b[38;5;250m    \u001b[39m\u001b[38;5;124;03m\"\"\"\u001b[39;00m\n\u001b[0;32m      3\u001b[0m \u001b[38;5;124;03m    Plot EEG signals based on labels, with options to average across trials and select top channels.\u001b[39;00m\n\u001b[0;32m      4\u001b[0m \u001b[38;5;124;03m    \u001b[39;00m\n\u001b[1;32m   (...)\u001b[0m\n\u001b[0;32m     10\u001b[0m \u001b[38;5;124;03m    - average_trials (bool): Whether to average the trials or plot raw signals.\u001b[39;00m\n\u001b[0;32m     11\u001b[0m \u001b[38;5;124;03m    \"\"\"\u001b[39;00m\n\u001b[0;32m     12\u001b[0m     \u001b[38;5;66;03m# Example: Create a time vector if not defined\u001b[39;00m\n",
      "\u001b[1;31mNameError\u001b[0m: name 'np' is not defined"
     ]
    }
   ],
   "source": [
    "# plots eeg signals from x top channels, for each label, either averaged over all trials or only first trial\n",
    "def plot_eeg_signals(X_resize: np.ndarray, Y: np.ndarray, fs: int, top_channels: int = 10, average_trials: bool = True):\n",
    "    \"\"\"\n",
    "    Plot EEG signals based on labels, with options to average across trials and select top channels.\n",
    "    \n",
    "    Parameters:\n",
    "    - X_resize (np.ndarray): EEG data of shape (trials, channels, time).\n",
    "    - Y (np.ndarray): Labels corresponding to the trials (shape: [trials, 1] or one-hot encoded).\n",
    "    - fs (int): Sampling frequency of the EEG data.\n",
    "    - top_channels (int): Number of most significant channels to plot based on variance.\n",
    "    - average_trials (bool): Whether to average the trials or plot raw signals.\n",
    "    \"\"\"\n",
    "    # Example: Create a time vector if not defined\n",
    "    time = np.linspace(0, X_resize.shape[2] / fs, X_resize.shape[2])  # Adjust fs if necessary\n",
    "    \n",
    "    \n",
    "    Y_labels = Y[:,1]\n",
    "    #\n",
    "    unique_labels = np.unique(data_labels)\n",
    "\n",
    "    # Set up the figure to plot EEG signals for each label\n",
    "    fig, axes = plt.subplots(len(unique_labels), 1, figsize=(12, len(unique_labels) * 4), sharex=True)\n",
    "\n",
    "    # If only one subplot, axes is not an array, so we convert it to an array for consistency\n",
    "    if len(unique_labels) == 1:\n",
    "        axes = [axes]\n",
    "\n",
    "    # Define the top channels based on variance\n",
    "    top_channels_idx = np.argsort(np.var(X_resize, axis=(0, 2)))[-top_channels:]  # Select top channels based on variance\n",
    "\n",
    "    for i, label in enumerate(unique_labels):\n",
    "        # Filter EEG data for the current label\n",
    "        X_label = X_resize[Y_labels == label]  # Select trials with the current label\n",
    "        \n",
    "        if average_trials:\n",
    "            # Calculate the average across trials for selected channels\n",
    "            X_label_avg = np.mean(X_label[:, top_channels_idx, :], axis=0)  # Average over the trials (axis=0)\n",
    "            \n",
    "            # Plot the average EEG signal for each selected channel\n",
    "            for channel in range(X_label_avg.shape[0]):\n",
    "                axes[i].plot(time, X_label_avg[channel, :], label=f\"Channel {top_channels_idx[channel]+1}\")\n",
    "        \n",
    "        else:\n",
    "            for channel in range(len(top_channels_idx)):\n",
    "                axes[i].plot(time, X_label[0, top_channels_idx[channel], :], label=f\"Channel {top_channels_idx[channel]+1}\")\n",
    "\n",
    "        axes[i].set_title(f\"EEG Signals for Label: {label}\")\n",
    "        axes[i].set_ylabel(\"Microvolts\")\n",
    "        axes[i].grid(True)\n",
    "        axes[i].legend()\n",
    "\n",
    "    # Set x-axis label\n",
    "    plt.xlabel(\"Time (s)\")\n",
    "    plt.tight_layout()\n",
    "    plt.show()\n",
    "\n",
    "plot_eeg_signals(X_resize, Y, fs, top_channels = 5, average_trials = True)"
   ]
  },
  {
   "cell_type": "code",
   "execution_count": null,
   "metadata": {},
   "outputs": [],
   "source": [
    "# this plots eeg data from all channels for the first trial\n",
    "for i in range(X_resize.shape[1]-1):\n",
    "    plt.plot(X_resize[0,i,:]);\n",
    "plt.title('EEG data, all channels for one trial')\n",
    "plt.ylabel('Voltage (microV)')\n",
    "plt.xlabel('Sample Number')\n",
    "plt.show()"
   ]
  },
  {
   "cell_type": "code",
   "execution_count": null,
   "metadata": {},
   "outputs": [],
   "source": [
    "# FFT (used for input to SVM, other networks can just use X_resize or other formats)\n",
    "\n",
    "N = X_resize.shape[2]\n",
    "samples_fft = rfft(X_resize, axis = 2)\n",
    "samples_freq = rfftfreq(N, 1/fs)\n",
    "\n",
    "# Average the Fourier series across channels (if needed)\n",
    "avg_fft = np.mean(samples_fft, axis=1)  # Average across the channels\n",
    "\n",
    "# Calculate magnitude (real + imaginary part)\n",
    "mag_fft = np.sqrt(avg_fft.real ** 2 + avg_fft.imag ** 2)\n",
    "\n",
    "# Convert to dB (20 * log10 of the magnitude)\n",
    "db_fft = 20 * np.log10(mag_fft)\n",
    "# Adjusting frequency window from 4 to 50 Hz\n",
    "data_fft = db_fft[:, 8:101]  # Index range for 4 to 50 Hz\n",
    "data_freq = samples_freq[8:101]  # Corresponding frequency values\n",
    "\n",
    "# Select the frequency range of interest (4 Hz to 40 Hz)\n",
    "data_fft = db_fft[:, 8:81]  # Frequency range 4-40 Hz (indexing)\n",
    "data_freq = samples_freq[8:81]  # Frequency range 4-40 Hz\n",
    "# Ensure data is real-valued\n",
    "data_fft = np.real(data_fft)  # Make sure the data is real (in case any imaginary parts remain)\n",
    "\n"
   ]
  },
  {
   "cell_type": "code",
   "execution_count": null,
   "metadata": {},
   "outputs": [],
   "source": [
    "x_train_svm, x_test_svm, y_train_svm, y_test_svm = train_test_split(data_fft, trial_labels, test_size=0.2, shuffle=True)\n",
    "# Generate demo SVM model\n",
    "model = svm.SVC()\n",
    "model.fit(x_train_svm, y_train_svm)\n",
    "#Evaluate the model\n",
    "predictions = model.predict(x_test_svm)\n",
    "print(classification_report(y_test_svm, predictions))\n"
   ]
  },
  {
   "cell_type": "code",
   "execution_count": null,
   "metadata": {},
   "outputs": [],
   "source": [
    "\n",
    "#Evaluate the model\n",
    "predictions = model.predict(x_test_svm)\n",
    "print(classification_report(y_test_svm, predictions))"
   ]
  }
 ],
 "metadata": {
  "kernelspec": {
   "display_name": "nc",
   "language": "python",
   "name": "python3"
  },
  "language_info": {
   "codemirror_mode": {
    "name": "ipython",
    "version": 3
   },
   "file_extension": ".py",
   "mimetype": "text/x-python",
   "name": "python",
   "nbconvert_exporter": "python",
   "pygments_lexer": "ipython3",
   "version": "3.8.20"
  }
 },
 "nbformat": 4,
 "nbformat_minor": 2
}
